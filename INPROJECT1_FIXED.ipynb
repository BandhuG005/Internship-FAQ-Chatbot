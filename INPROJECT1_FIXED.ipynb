{
 "cells": [
  {
   "cell_type": "code",
   "execution_count": null,
   "metadata": {
    "colab": {
     "base_uri": "https://localhost:8080/",
     "height": 997,
     "referenced_widgets": [
      "dbdfdf39c7df4de99cb1a7b6bc27b6fa",
      "1a27a4fa2f114a44bcf79ff907c341d0",
      "6873d3d8aa984a5aa20c7800d21bd708",
      "b84abc525fd64762bc92a55ca1a4dc1e",
      "25d0c36201af4891b0af6fe24f2571bc",
      "9f3e897d570947b8958be25b1a637e23",
      "ba883a8fc05a4e61a03a65a68169d730",
      "fc8949ef38014e37b493528d65d8f468",
      "c3abf1e07db24dee8d4af7287948f990",
      "71d8c5fef37743cca093c8a92a7b37de",
      "fdf9a07f20214c5585d4ea189c7ed8d4",
      "fe1a6edaf45a4a14b1ef5fbb8ed160ba",
      "fad3a2b69b4b494da789019bc79d16f7",
      "a64455ffebf84f7c89d807b31975c6b0",
      "b21bfbf791c84b08a04f67f19f40df9f",
      "8ae41a0a125449c78cfa3cc6b11beade",
      "36a20a8c0e6e472082346f9ce09c967c",
      "84649641226044e09fe7e4b206fa1824",
      "d5dad5111129458d86ac6dd767ec1930",
      "ef84df983f1249f896f30d7035795538",
      "b7849633b6914a7983be0bec42969d43",
      "7af6303da7274cc9b1196a8cc0e6a956",
      "f07fcdfe2d6f437ba065bbf38652a6b4",
      "832ca0a76e9c4db199ea50d293699339",
      "93b2e775f7a0483db853e8e1b67b30c9",
      "388d0084d5f543139435c08112bb5f10",
      "69613813466042feab0d68b7394f0cb2",
      "5954d6c2e7b74e9a9d1cbfca961c4d45",
      "f6f4d3bdbf864aa0b163f9fb8ecdc9ec",
      "deb764591f9449b0ad3d0f4031e70793",
      "10ede1d182734530822f4a29e41627c4",
      "ffe867eb78dd41dd808da70314da1db3",
      "18e3fc750feb474494f963e1ace14b1f",
      "090844496ba04643bbc6e0dc5be4b280",
      "e000885c25dd4058a59c882f030c0642",
      "92d0cb470681429baf98b731ece1f2c4",
      "39f4a2b6ca9843dcb94269205804ca52",
      "7415106b3a454443af4967812d66a03d",
      "35af9995de1c413c8cd2727960e4b307",
      "bf615ff40b79443395119940afff15d3",
      "84628ffd51a34b11b40d2c04ddbda2f6",
      "750d08668f9f4398b31588a7a94dbd53",
      "06850f012b1d4cadbf894b7f0b0bb7ca",
      "4a43e187d3ed431fbdb58e86f8bbb45a",
      "6fc56852e1d44380bbc680448884db08",
      "9650017f08994dbb94753094a1dabd44",
      "5be3c8f47b9b41489261042796af4f8c",
      "162528cd4a5c4df9a2ae5ab6eb69831d",
      "12256645815b4102ad7e530a8f46d757",
      "57ea7276c9b64e4e8f449fc6fa03e2fd",
      "95c951c732174010a334750c7cb9c014",
      "0c88a47188994bed8c9209f9fb3572f5",
      "e3e007056e4e4e168b1987c95ead049a",
      "8576ef278c2c47928ab056c2f1389cc0",
      "7b2f5451683a48a28be4b8bd61e7a54b",
      "e0957167e6e94f989cd8cd345793377b",
      "3749bba6893a47d1b313a9dfeb26817d",
      "c79b069b13ee45ada11b9793b511b890",
      "695408c6caf544c297ea3260bd277667",
      "ef300591542c4e079e1845de8c41baeb",
      "bcf59c277bd64b01af846e91cef85c5e",
      "e85978afee1743ca826e5bd5860ee02c",
      "20f56d51cce041bcbbb5116a0be2a860",
      "0f12e82e262e4f66b180f42db1e4e850",
      "310988ddfe8b464e87cbd07f827c9e7c",
      "88726b7797914e54ab86956f4d798ba4",
      "5a967402668a491281194aed4926dce4",
      "34a28bfe035d4ff4afb3badbf7f2e474",
      "15a5386c815d40fc921a92990e43aeeb",
      "7ae9c62d6c0f47e6bcaefee6c1960f3d",
      "de9566fdbbad4336b256a21d6f2140c0",
      "ac02c147b01d4511b8aa9c6e1f0c6b62",
      "5e8e22e28c804bb399a7479d4a0baf40",
      "fbeaa3121bab4189b1960925802871f5",
      "e84f6c384e7c406cbfbc5e1dd1adee05",
      "1d17ad3b1f8d48c48229d1730782ae52",
      "99bafa3d0f7142e6afbc6574b657aaed",
      "a2146b6a70894ddc8ad513dfadf72f51",
      "9d0bdffb92044f2c858155ca7a2c9ec4",
      "0ea4545eacfe4e51b9ca071390a3a6d9",
      "75393683e3b949109a49007f405a5a5e",
      "b0901d4f90174f3889b219a65d7bf492",
      "2f1f1d41932f40229d1971ff9a05396b",
      "cbe86f0e485742ce9744f118aaefa552",
      "027d8c73c3014b1ead5615125d4f3ec3",
      "491102b634894525ac729c6b88aac218",
      "f25255904b104e0cbdca23199781b17f",
      "4fef6b660d454a4e8b124be6f2b4c239",
      "7ed1e27e77144ffc9b8fba688c72a13d",
      "a517984deb9242f4980f39cde06cea09",
      "a75d85cb72ac480caecda78d19a63ec3",
      "b5f7fd04b0e24e25b610199156747963",
      "e27e4ac9b3fc4186a1f2783dc690197b",
      "a619f536de4b4e5f8528bba6cc499247",
      "ab191bbebb944fd990f85d9f88217444",
      "b8afcab9856e45e08d765e1d96b6ef44",
      "f5c85f820af04c38b46ee101c217c25b",
      "1c044102f4f04b2c81df1a951de759a5",
      "52e63e12fba345d9a81e85070aa27956",
      "919dbaf042d2444a9a05a1d5eb06490d",
      "2b4b406f2a7f46d09126dfec70cfe300",
      "90d95b93acc24d1facac2dd5e52e22a3",
      "3ea84efb698449de932889c8e00c3901",
      "88a824aa908240eb9a224db87352a9b9",
      "cd0cfbe7fd1d4c12af6302457087a5f2",
      "c60e64a7e3d44aad85c234e1ca3543e3",
      "7f85fd0198b5472883c727386b1791ea",
      "5da51fb17abd4a48b13b044783f51b35",
      "27e12bc5036a4c3aab334f74c3e9489d",
      "9d80c4b705964331a8e57c786041e8c5",
      "83a162a157c64fedb78b8a8251548feb",
      "4ee7297bad65478d9307a6f0147c6e08",
      "9d064ea2d57a446e845b623406f9048f",
      "053233bf0a494fe38707c61dcc8390d7",
      "2a205be99e1b4f60900851bb824228ab",
      "e96e655fa60b45db92e7a3626de7cc70",
      "d3b0645ecee14fd3a9b76fc6fa9a26c5",
      "102c38b631ed462bacf47a22b93fd44e",
      "bbf9828a567b430bb912b4aeb4359908",
      "4e54eea4da29464fa8c70db72be837ab",
      "ebd2c80ff5be4a128031ee0ab1aefbd4"
     ]
    },
    "executionInfo": {
     "elapsed": 25257,
     "status": "ok",
     "timestamp": 1749657882886,
     "user": {
      "displayName": "Gourab Bandhu",
      "userId": "17788709228046053550"
     },
     "user_tz": -330
    },
    "id": "iHPWUlSrc6ag",
    "outputId": "4abe8418-57cb-4445-d555-2fcdfc2b57a7"
   },
   "outputs": [
    {
     "data": {
      "application/vnd.jupyter.widget-view+json": {
       "model_id": "dbdfdf39c7df4de99cb1a7b6bc27b6fa",
       "version_major": 2,
       "version_minor": 0
      },
      "text/plain": [
       "modules.json:   0%|          | 0.00/349 [00:00<?, ?B/s]"
      ]
     },
     "metadata": {},
     "output_type": "display_data"
    },
    {
     "data": {
      "application/vnd.jupyter.widget-view+json": {
       "model_id": "fe1a6edaf45a4a14b1ef5fbb8ed160ba",
       "version_major": 2,
       "version_minor": 0
      },
      "text/plain": [
       "config_sentence_transformers.json:   0%|          | 0.00/116 [00:00<?, ?B/s]"
      ]
     },
     "metadata": {},
     "output_type": "display_data"
    },
    {
     "data": {
      "application/vnd.jupyter.widget-view+json": {
       "model_id": "f07fcdfe2d6f437ba065bbf38652a6b4",
       "version_major": 2,
       "version_minor": 0
      },
      "text/plain": [
       "README.md:   0%|          | 0.00/10.5k [00:00<?, ?B/s]"
      ]
     },
     "metadata": {},
     "output_type": "display_data"
    },
    {
     "data": {
      "application/vnd.jupyter.widget-view+json": {
       "model_id": "090844496ba04643bbc6e0dc5be4b280",
       "version_major": 2,
       "version_minor": 0
      },
      "text/plain": [
       "sentence_bert_config.json:   0%|          | 0.00/53.0 [00:00<?, ?B/s]"
      ]
     },
     "metadata": {},
     "output_type": "display_data"
    },
    {
     "data": {
      "application/vnd.jupyter.widget-view+json": {
       "model_id": "6fc56852e1d44380bbc680448884db08",
       "version_major": 2,
       "version_minor": 0
      },
      "text/plain": [
       "config.json:   0%|          | 0.00/612 [00:00<?, ?B/s]"
      ]
     },
     "metadata": {},
     "output_type": "display_data"
    },
    {
     "data": {
      "application/vnd.jupyter.widget-view+json": {
       "model_id": "e0957167e6e94f989cd8cd345793377b",
       "version_major": 2,
       "version_minor": 0
      },
      "text/plain": [
       "model.safetensors:   0%|          | 0.00/90.9M [00:00<?, ?B/s]"
      ]
     },
     "metadata": {},
     "output_type": "display_data"
    },
    {
     "data": {
      "application/vnd.jupyter.widget-view+json": {
       "model_id": "5a967402668a491281194aed4926dce4",
       "version_major": 2,
       "version_minor": 0
      },
      "text/plain": [
       "tokenizer_config.json:   0%|          | 0.00/350 [00:00<?, ?B/s]"
      ]
     },
     "metadata": {},
     "output_type": "display_data"
    },
    {
     "data": {
      "application/vnd.jupyter.widget-view+json": {
       "model_id": "a2146b6a70894ddc8ad513dfadf72f51",
       "version_major": 2,
       "version_minor": 0
      },
      "text/plain": [
       "vocab.txt:   0%|          | 0.00/232k [00:00<?, ?B/s]"
      ]
     },
     "metadata": {},
     "output_type": "display_data"
    },
    {
     "data": {
      "application/vnd.jupyter.widget-view+json": {
       "model_id": "7ed1e27e77144ffc9b8fba688c72a13d",
       "version_major": 2,
       "version_minor": 0
      },
      "text/plain": [
       "tokenizer.json:   0%|          | 0.00/466k [00:00<?, ?B/s]"
      ]
     },
     "metadata": {},
     "output_type": "display_data"
    },
    {
     "data": {
      "application/vnd.jupyter.widget-view+json": {
       "model_id": "919dbaf042d2444a9a05a1d5eb06490d",
       "version_major": 2,
       "version_minor": 0
      },
      "text/plain": [
       "special_tokens_map.json:   0%|          | 0.00/112 [00:00<?, ?B/s]"
      ]
     },
     "metadata": {},
     "output_type": "display_data"
    },
    {
     "data": {
      "application/vnd.jupyter.widget-view+json": {
       "model_id": "83a162a157c64fedb78b8a8251548feb",
       "version_major": 2,
       "version_minor": 0
      },
      "text/plain": [
       "config.json:   0%|          | 0.00/190 [00:00<?, ?B/s]"
      ]
     },
     "metadata": {},
     "output_type": "display_data"
    },
    {
     "name": "stdout",
     "output_type": "stream",
     "text": [
      "It looks like you are running Gradio on a hosted a Jupyter notebook. For the Gradio app to work, sharing must be enabled. Automatically setting `share=True` (you can turn this off by setting `share=False` in `launch()` explicitly).\n",
      "\n",
      "Colab notebook detected. To show errors in colab notebook, set debug=True in launch()\n",
      "* Running on public URL: https://9e29c70ed3e910414e.gradio.live\n",
      "\n",
      "This share link expires in 1 week. For free permanent hosting and GPU upgrades, run `gradio deploy` from the terminal in the working directory to deploy to Hugging Face Spaces (https://huggingface.co/spaces)\n"
     ]
    },
    {
     "data": {
      "text/html": [
       "<div><iframe src=\"https://9e29c70ed3e910414e.gradio.live\" width=\"100%\" height=\"500\" allow=\"autoplay; camera; microphone; clipboard-read; clipboard-write;\" frameborder=\"0\" allowfullscreen></iframe></div>"
      ],
      "text/plain": [
       "<IPython.core.display.HTML object>"
      ]
     },
     "metadata": {},
     "output_type": "display_data"
    },
    {
     "data": {
      "text/plain": []
     },
     "execution_count": 5,
     "metadata": {},
     "output_type": "execute_result"
    }
   ],
   "source": [
    "# STEP 1: Install required packages\n",
    "!pip install -q sentence-transformers gradio\n",
    "\n",
    "# STEP 2: Imports\n",
    "from sentence_transformers import SentenceTransformer, util\n",
    "import gradio as gr\n",
    "\n",
    "# STEP 3: Load sentence transformer model\n",
    "model = SentenceTransformer('all-MiniLM-L6-v2')  # Fast and accurate\n",
    "\n",
    "faq_data = {\n",
    "    \"How do I apply for internships?\": \"You can apply through the internship portal using your student login credentials. Fill out the form and submit your resume.\",\n",
    "    \"Where do I apply for internships?\": \"All internship applications are managed through the Internship Portal provided by the college.\",\n",
    "    \"When are internship forms released?\": \"Forms are usually released before the summer or winter break. Keep checking the portal and your college email.\",\n",
    "    \"Is there any deadline to apply?\": \"Yes, each internship opportunity has a deadline. Late applications are not accepted.\",\n",
    "    \"How to upload my resume?\": \"Go to Dashboard > Resume Section and upload your resume in PDF format.\",\n",
    "    \"Can I update my CV later?\": \"Yes, you can update your resume anytime before the application deadline.\",\n",
    "    \"Who is eligible for internships?\": \"Students with a CGPA of 6.5 or above and no active backlogs are generally eligible.\",\n",
    "    \"Can students with backlogs apply?\": \"Students with active backlogs may not be eligible. Check the specific internship criteria.\",\n",
    "    \"Are internships paid?\": \"Some internships are paid, while others may be unpaid but offer experience or a PPO.\",\n",
    "    \"Is every internship paid?\": \"No. Many research or academic internships are unpaid.\",\n",
    "    \"What is the average stipend offered?\": \"Stipends typically range from ₹5,000 to ₹30,000 per month.\",\n",
    "    \"Do internships offer PPOs?\": \"Some internships offer Pre-Placement Offers based on your performance.\",\n",
    "    \"Are there work-from-home internships?\": \"Yes, many companies now offer remote internship opportunities.\",\n",
    "    \"Do we need prior experience?\": \"No, but having relevant skills, certifications, or projects helps a lot.\",\n",
    "    \"Are interviews conducted?\": \"Yes, most internships include tests or interviews after shortlisting.\",\n",
    "    \"What is the internship selection process?\": \"It typically involves resume screening, aptitude tests, and interviews.\",\n",
    "    \"Can I apply for more than one internship?\": \"Yes, but you can accept only one offer through the college.\",\n",
    "    \"Can I do two internships at once?\": \"Usually not allowed due to academic policies and time conflicts.\",\n",
    "    \"What are the domains offered?\": \"AI/ML, Web Dev, App Dev, Cybersecurity, Data Science, Marketing, Content Writing, Design, and more.\",\n",
    "    \"Are non-tech internships available?\": \"Yes, roles in marketing, design, HR, and content writing are available.\",\n",
    "    \"What is a research internship?\": \"It involves working on a research project, often under a professor or research lab.\",\n",
    "    \"How can I apply for research internships?\": \"You can apply via professor referrals or programs like SRFP, MITACS, etc.\",\n",
    "    \"Are winter internships available?\": \"Yes, some internships are offered during the winter break (Dec-Jan).\",\n",
    "    \"How long is an internship?\": \"Usually between 6 to 12 weeks, depending on the company or project.\",\n",
    "    \"When do internships start?\": \"Mostly during summer (May–July) or winter (December–January).\",\n",
    "    \"Can first-year students apply?\": \"Some opportunities are open to first-years, especially in startups or non-tech roles.\",\n",
    "    \"What skills should I learn for internships?\": \"It depends on the domain, but skills like Python, Web Dev, Data Analysis, or Communication are helpful.\",\n",
    "    \"How can I improve my resume?\": \"Focus on adding projects, certifications, and clearly structured content. Get it reviewed by seniors or TPO.\",\n",
    "    \"Should I include GPA in my resume?\": \"Yes, unless it is explicitly asked not to. Some companies have GPA cut-offs.\",\n",
    "    \"Where can I see internship updates?\": \"Check the Internship Portal, your email, or college WhatsApp groups regularly.\",\n",
    "    \"What should I do if I miss a deadline?\": \"Unfortunately, you won’t be able to apply. Keep an eye on future opportunities.\",\n",
    "    \"What to wear during internship interviews?\": \"Formal or smart casual attire is recommended.\",\n",
    "    \"Are online tests part of selection?\": \"Yes, aptitude and technical MCQs are common.\",\n",
    "    \"Can I prepare for internship interviews?\": \"Yes, practice HR questions, basic technical topics, and review your resume thoroughly.\",\n",
    "    \"Can I use online certificates in my resume?\": \"Yes, relevant certifications like Coursera, Udemy, NPTEL, etc., are valuable.\",\n",
    "    \"Can I intern at a startup?\": \"Yes, startups often provide hands-on experience and flexibility.\",\n",
    "    \"Can I get an international internship?\": \"Yes, through platforms like AIESEC, IAESTE, or research exchange programs.\",\n",
    "    \"What are internship hours like?\": \"Generally 4–6 hours a day, but it may vary with the company.\",\n",
    "    \"Do internships affect academics?\": \"Most internships are done during semester breaks to avoid conflicts.\",\n",
    "    \"Can I do internships during the semester?\": \"Only if it’s part-time or flexible and doesn’t interfere with your classes.\",\n",
    "    \"Is NOC required from college?\": \"Some companies may ask for a No Objection Certificate (NOC) from the college.\",\n",
    "    \"How to get NOC from college?\": \"You can request it from the TPO or Internship Coordinator.\",\n",
    "    \"How do I contact the placement cell?\": \"Email placementcell@mits.ac.in or visit the TPO office directly.\",\n",
    "    \"How can I give feedback about an internship?\": \"Submit feedback through the post-internship survey sent by the TPO.\",\n",
    "    \"What documents are required for joining?\": \"Usually resume, ID proof, college ID, and sometimes a NOC or letter of recommendation.\",\n",
    "    \"Will I get a certificate after internship?\": \"Yes, most companies provide an internship completion certificate.\",\n",
    "    \"Can I convert an internship into a full-time job?\": \"Yes, strong performance may lead to PPO or full-time offer.\",\n",
    "    \"Do I need to submit a report after internship?\": \"Yes, some departments require a post-internship report or viva.\",\n",
    "    \"What are soft skills needed for internships?\": \"Communication, teamwork, adaptability, and time management are essential.\",\n",
    "    \"How to deal with internship rejection?\": \"Treat it as a learning experience. Improve your profile and apply again.\",\n",
    "    \"How to prepare for coding roles?\": \"Practice DSA on platforms like LeetCode, HackerRank, and focus on resume and projects.\",\n",
    "    \"How to prepare for non-tech roles?\": \"Work on communication, creativity, and portfolio (for design/content roles).\",\n",
    "    \"Can I get help from seniors?\": \"Yes, seniors and alumni are great resources for guidance and referrals.\",\n",
    "}\n",
    "\n",
    "# STEP 5: Encode FAQ questions once\n",
    "faq_questions = list(faq_data.keys())\n",
    "faq_answers = list(faq_data.values())\n",
    "faq_embeddings = model.encode(faq_questions, convert_to_tensor=True)\n",
    "\n",
    "# STEP 6: Chatbot function\n",
    "def chatbot(user_input):\n",
    "    user_embedding = model.encode(user_input, convert_to_tensor=True)\n",
    "    scores = util.cos_sim(user_embedding, faq_embeddings)[0]\n",
    "\n",
    "    best_match_idx = scores.argmax()\n",
    "    confidence = float(scores[best_match_idx])\n",
    "\n",
    "    if confidence < 0.6:\n",
    "        return \"I'm not quite sure what you meant. Try asking differently or ask: 'What domains are available?'\"\n",
    "\n",
    "    return faq_answers[best_match_idx]\n",
    "\n",
    "# STEP 7: Gradio UI\n",
    "gr.Interface(\n",
    "    fn=chatbot,\n",
    "    inputs=gr.Textbox(placeholder=\"Ask your internship question here...\"),\n",
    "    outputs=\"text\",\n",
    "    title=\"🎓 Internship FAQ Chatbot (Improved)\",\n",
    "    description=\"Ask about application process, eligibility, domains, resume, stipend, and more.\"\n",
    ").launch()\n"
   ]
  },
  {
   "cell_type": "code",
   "execution_count": null,
   "metadata": {
    "id": "wQcgFFZ4fGg3"
   },
   "outputs": [],
   "source": []
  }
 ],
 "metadata": {
  "colab": {
   "authorship_tag": "ABX9TyPRy6nNb4uSQ/vcRqyBQ/AW",
   "provenance": [
    {
     "file_id": "1dr7RNmuGLJIPFqXWISLUTHhuWkrUqSlH",
     "timestamp": 1749664484970
    },
    {
     "file_id": "1ZLNBQt0E22lZlSQzjcxd458t-58d1jzN",
     "timestamp": 1749664439663
    }
   ]
  },
  "kernelspec": {
   "display_name": "Python 3",
   "name": "python3"
  },
  "language_info": {
   "name": "python"
  }
 },
 "nbformat": 4,
 "nbformat_minor": 0
}
